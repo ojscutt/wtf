{
 "cells": [
  {
   "cell_type": "markdown",
   "id": "54ba85cf-0672-413c-963e-55558ab2b048",
   "metadata": {},
   "source": [
    "# wtf_dev\n",
    "notebook for testing the wtf.py function"
   ]
  },
  {
   "cell_type": "code",
   "execution_count": null,
   "id": "f3f95790-b2e3-4927-a9a4-4821c05c1053",
   "metadata": {},
   "outputs": [],
   "source": []
  }
 ],
 "metadata": {
  "kernelspec": {
   "display_name": "Python 3 (ipykernel)",
   "language": "python",
   "name": "python3"
  },
  "language_info": {
   "codemirror_mode": {
    "name": "ipython",
    "version": 3
   },
   "file_extension": ".py",
   "mimetype": "text/x-python",
   "name": "python",
   "nbconvert_exporter": "python",
   "pygments_lexer": "ipython3",
   "version": "3.12.5"
  }
 },
 "nbformat": 4,
 "nbformat_minor": 5
}
